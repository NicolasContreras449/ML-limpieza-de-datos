{
  "nbformat": 4,
  "nbformat_minor": 0,
  "metadata": {
    "colab": {
      "provenance": [],
      "authorship_tag": "ABX9TyP/Wv6miOhztPiE9HyC91+c",
      "include_colab_link": true
    },
    "kernelspec": {
      "name": "python3",
      "display_name": "Python 3"
    },
    "language_info": {
      "name": "python"
    }
  },
  "cells": [
    {
      "cell_type": "markdown",
      "metadata": {
        "id": "view-in-github",
        "colab_type": "text"
      },
      "source": [
        "<a href=\"https://colab.research.google.com/github/NicolasContreras449/ML-limpieza-de-datos/blob/main/AnalysisandCleaning.ipynb\" target=\"_parent\"><img src=\"https://colab.research.google.com/assets/colab-badge.svg\" alt=\"Open In Colab\"/></a>"
      ]
    },
    {
      "cell_type": "markdown",
      "source": [
        "**TRABAJO DE LIMPIEZA DE DATOS CON BASES DE DATOS RELACIONADAS CON CIENCIA**\n",
        "\n",
        "Bases de datos usada ------------> https://www.kaggle.com/datasets/fedesoriano/cern-electron-collision-data\n",
        "Base de Datos de colision de electrones."
      ],
      "metadata": {
        "id": "cskY4fzl2Yxd"
      }
    },
    {
      "cell_type": "markdown",
      "source": [
        "Caracteristicas del DataFrame:\n",
        "Contiene 100.000 observaciones con 19 atributos, entre estos atributos encontramos:\n",
        "\n",
        " \n",
        "\n",
        "*   El numero de ejecucion del evento - index\n",
        "*   Numero del evento \n",
        "*   Energia del electron 1 y 2\n",
        "*   Momento lineal en (x,y,z) de cada electron\n",
        "*   Momento Transversal de cada electron\n",
        "*   Pseudorapidez de cada electron\n",
        "*   Angulo entre los dos electrones\n",
        "*   Carga de cada electron\n",
        "*   masa invariante de los dos electrones\n"
      ],
      "metadata": {
        "id": "ww-QvFTA5QLS"
      }
    },
    {
      "cell_type": "code",
      "source": [
        "import pandas as pd\n",
        "import numpy as np\n",
        "import matplotlib.pyplot as plt\n",
        "import os"
      ],
      "metadata": {
        "id": "WjNA6BKWA8tE"
      },
      "execution_count": null,
      "outputs": []
    },
    {
      "cell_type": "code",
      "execution_count": null,
      "metadata": {
        "id": "Poumt2s6qb17"
      },
      "outputs": [],
      "source": [
        "\n"
      ]
    }
  ]
}